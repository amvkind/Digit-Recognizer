{
  "nbformat": 4,
  "nbformat_minor": 0,
  "metadata": {
    "colab": {
      "name": "Digit Recognizer CNN.ipynb",
      "provenance": []
    },
    "kernelspec": {
      "name": "python3",
      "display_name": "Python 3"
    },
    "accelerator": "GPU"
  },
  "cells": [
    {
      "cell_type": "code",
      "metadata": {
        "id": "7728ZPVZezgV",
        "colab_type": "code",
        "colab": {}
      },
      "source": [
        "PATH = '/content/drive/My Drive/Colab Notebooks/Digit Recognizer/'"
      ],
      "execution_count": 0,
      "outputs": []
    },
    {
      "cell_type": "markdown",
      "metadata": {
        "id": "GFY3yHwZfMtP",
        "colab_type": "text"
      },
      "source": [
        "**TRAINING**"
      ]
    },
    {
      "cell_type": "code",
      "metadata": {
        "id": "uTulSYr9fHJi",
        "colab_type": "code",
        "outputId": "ae3c058f-6644-4824-85d1-79e72d4c2688",
        "colab": {
          "base_uri": "https://localhost:8080/",
          "height": 513
        }
      },
      "source": [
        "# CNN model for Digit Classification\n",
        "\n",
        "# Importing Files\n",
        "import tensorflow as tf\n",
        "import numpy as np\n",
        "import pandas as pd\n",
        "\n",
        "from tensorflow import keras\n",
        "from sklearn.model_selection import train_test_split\n",
        "from sklearn import preprocessing\n",
        "from keras.losses import SparseCategoricalCrossentropy\n",
        "from keras.models import Sequential\n",
        "from keras.layers import Dense\n",
        "from keras.layers import Flatten\n",
        "from keras.layers import Conv2D, MaxPool2D\n",
        "\n",
        "# Reading training data\n",
        "df_train = pd.read_csv(PATH+'data/train.csv')\n",
        "\n",
        "# Splitting dataframe into Features(X) and Labels(y)\n",
        "X=df_train.iloc[:,1:]\n",
        "y=df_train.iloc[:,0]\n",
        "\n",
        "# Splitting data into train and validation data\n",
        "X_train, X_val, y_train, y_val = train_test_split(X, y, test_size=0.33, random_state=42)\n",
        "\n",
        "# Scaling features into range from 0 to 1\n",
        "scaler = preprocessing.MinMaxScaler((0,1))\n",
        "X_train = scaler.fit_transform(X_train)\n",
        "X_val = scaler.fit_transform(X_val)\n",
        "\n",
        "# Reshaping data as 28 x 28 numpy array to feed in CNN\n",
        "train_images=X_train.reshape(len(X_train),28,28,1)\n",
        "val_images=X_val.reshape(len(X_val),28,28,1)\n",
        "\n",
        "# Initializing Model\n",
        "model = Sequential()\n",
        "\n",
        "# Defining layers of the model\n",
        "model.add(Conv2D(80,(3,3), init = 'he_uniform', activation='relu', input_shape=(28, 28, 1)))\n",
        "model.add(MaxPool2D(2,2))\n",
        "model.add(Conv2D(48,(3,3), init = 'he_uniform', activation='relu'))\n",
        "model.add(MaxPool2D(2,2))\n",
        "model.add(Conv2D(48,(3,3), init = 'he_uniform', activation='relu'))\n",
        "model.add(Conv2D(32,(3,3), init = 'he_uniform', activation='relu'))\n",
        "model.add(Flatten())\n",
        "model.add(Dense(output_dim = 112, init = 'he_uniform',activation='relu'))\n",
        "model.add(Dense(output_dim = 112, init = 'he_uniform',activation='relu'))\n",
        "model.add(Dense(10, activation='softmax'))\n",
        "\n",
        "model.compile(optimizer = 'adam', loss = SparseCategoricalCrossentropy(), metrics = ['accuracy'])\n",
        "\n",
        "# Training Model\n",
        "model.fit(train_images, np.array(y_train), validation_data=(val_images, y_val), epochs=10, validation_split=0.1)"
      ],
      "execution_count": 0,
      "outputs": [
        {
          "output_type": "stream",
          "text": [
            "/usr/local/lib/python3.6/dist-packages/ipykernel_launcher.py:40: UserWarning: Update your `Conv2D` call to the Keras 2 API: `Conv2D(80, (3, 3), activation=\"relu\", input_shape=(28, 28, 1..., kernel_initializer=\"he_uniform\")`\n",
            "/usr/local/lib/python3.6/dist-packages/ipykernel_launcher.py:42: UserWarning: Update your `Conv2D` call to the Keras 2 API: `Conv2D(48, (3, 3), activation=\"relu\", kernel_initializer=\"he_uniform\")`\n",
            "/usr/local/lib/python3.6/dist-packages/ipykernel_launcher.py:44: UserWarning: Update your `Conv2D` call to the Keras 2 API: `Conv2D(48, (3, 3), activation=\"relu\", kernel_initializer=\"he_uniform\")`\n",
            "/usr/local/lib/python3.6/dist-packages/ipykernel_launcher.py:45: UserWarning: Update your `Conv2D` call to the Keras 2 API: `Conv2D(32, (3, 3), activation=\"relu\", kernel_initializer=\"he_uniform\")`\n",
            "/usr/local/lib/python3.6/dist-packages/ipykernel_launcher.py:47: UserWarning: Update your `Dense` call to the Keras 2 API: `Dense(activation=\"relu\", units=112, kernel_initializer=\"he_uniform\")`\n",
            "/usr/local/lib/python3.6/dist-packages/ipykernel_launcher.py:48: UserWarning: Update your `Dense` call to the Keras 2 API: `Dense(activation=\"relu\", units=112, kernel_initializer=\"he_uniform\")`\n"
          ],
          "name": "stderr"
        },
        {
          "output_type": "stream",
          "text": [
            "Train on 28140 samples, validate on 13860 samples\n",
            "Epoch 1/10\n",
            "28140/28140 [==============================] - 13s 464us/step - loss: 0.2299 - accuracy: 0.9265 - val_loss: 0.1003 - val_accuracy: 0.9696\n",
            "Epoch 2/10\n",
            "28140/28140 [==============================] - 7s 238us/step - loss: 0.0762 - accuracy: 0.9761 - val_loss: 0.0845 - val_accuracy: 0.9741\n",
            "Epoch 3/10\n",
            "28140/28140 [==============================] - 7s 240us/step - loss: 0.0539 - accuracy: 0.9835 - val_loss: 0.0612 - val_accuracy: 0.9810\n",
            "Epoch 4/10\n",
            "28140/28140 [==============================] - 7s 245us/step - loss: 0.0435 - accuracy: 0.9864 - val_loss: 0.0592 - val_accuracy: 0.9820\n",
            "Epoch 5/10\n",
            "28140/28140 [==============================] - 7s 240us/step - loss: 0.0380 - accuracy: 0.9877 - val_loss: 0.0586 - val_accuracy: 0.9832\n",
            "Epoch 6/10\n",
            "28140/28140 [==============================] - 6s 231us/step - loss: 0.0307 - accuracy: 0.9896 - val_loss: 0.0487 - val_accuracy: 0.9880\n",
            "Epoch 7/10\n",
            "28140/28140 [==============================] - 7s 235us/step - loss: 0.0258 - accuracy: 0.9918 - val_loss: 0.0923 - val_accuracy: 0.9768\n",
            "Epoch 8/10\n",
            "28140/28140 [==============================] - 7s 246us/step - loss: 0.0266 - accuracy: 0.9915 - val_loss: 0.0379 - val_accuracy: 0.9888\n",
            "Epoch 9/10\n",
            "28140/28140 [==============================] - 7s 232us/step - loss: 0.0206 - accuracy: 0.9935 - val_loss: 0.0790 - val_accuracy: 0.9799\n",
            "Epoch 10/10\n",
            "28140/28140 [==============================] - 7s 232us/step - loss: 0.0158 - accuracy: 0.9955 - val_loss: 0.0668 - val_accuracy: 0.9840\n"
          ],
          "name": "stdout"
        },
        {
          "output_type": "execute_result",
          "data": {
            "text/plain": [
              "<keras.callbacks.callbacks.History at 0x7f452f6d86d8>"
            ]
          },
          "metadata": {
            "tags": []
          },
          "execution_count": 3
        }
      ]
    },
    {
      "cell_type": "markdown",
      "metadata": {
        "id": "c2UaCux6fSeQ",
        "colab_type": "text"
      },
      "source": [
        "**TESTING**"
      ]
    },
    {
      "cell_type": "code",
      "metadata": {
        "id": "NvgLbbUTfWN4",
        "colab_type": "code",
        "colab": {}
      },
      "source": [
        "# Reading testing data \n",
        "df_test = pd.read_csv(PATH+'data/test.csv')\n",
        "\n",
        "# Scaling features into range from 0 to 1\n",
        "scaler = preprocessing.MinMaxScaler((0,1))\n",
        "X_test = scaler.fit_transform(np.array(df_test))\n",
        "\n",
        "# Reshaping data as 28 x 28 numpy array to feed in CNN\n",
        "X_test = X_test.reshape(len(df_test),28,28,1)\n",
        "\n",
        "# Predicting Test data output\n",
        "preds = []\n",
        "y_test = model.predict(X_test)\n",
        "for i in range(len(y_test)):\n",
        "  preds.append(np.argmax(y_test[i]))\n",
        "\n",
        "# Creating and saving predicted data into a .csv file\n",
        "# submission = pd.DataFrame({ 'ImageId': [i for i in range(1,len(preds)+1)], 'Label': [all[i] for i in range(len(preds))] })\n",
        "# submission.to_csv(\"sample_submission.csv\", index=False)"
      ],
      "execution_count": 0,
      "outputs": []
    }
  ]
}